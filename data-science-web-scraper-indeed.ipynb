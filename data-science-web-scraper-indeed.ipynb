{
 "cells": [
  {
   "cell_type": "code",
   "execution_count": 1,
   "id": "7a901207",
   "metadata": {
    "execution": {
     "iopub.execute_input": "2022-03-09T19:30:32.058198Z",
     "iopub.status.busy": "2022-03-09T19:30:32.057122Z",
     "iopub.status.idle": "2022-03-09T19:30:37.813191Z",
     "shell.execute_reply": "2022-03-09T19:30:37.812280Z",
     "shell.execute_reply.started": "2022-03-09T18:38:44.615712Z"
    },
    "papermill": {
     "duration": 5.782835,
     "end_time": "2022-03-09T19:30:37.813420",
     "exception": false,
     "start_time": "2022-03-09T19:30:32.030585",
     "status": "completed"
    },
    "tags": []
   },
   "outputs": [
    {
     "name": "stdout",
     "output_type": "stream",
     "text": [
      "Running page, 0\n",
      "Running page, 10\n",
      "Running page, 20\n",
      "Running page, 30\n",
      "                                               title  \\\n",
      "0  Junior Data LabelerDeloitte4.0Rosslyn, VA 2220...   \n",
      "1  newData ScientistNational Security Agency4.2Fo...   \n",
      "2  Data Analytics SupportDeloitte4.0Rosslyn, VA 2...   \n",
      "3  newData ScientistSalesforce4.3Washington, DC$8...   \n",
      "4  Data Science ConsultantDeloitte4.0Rosslyn, VA ...   \n",
      "\n",
      "                    company  \\\n",
      "0                  Deloitte   \n",
      "1  National Security Agency   \n",
      "2                  Deloitte   \n",
      "3                Salesforce   \n",
      "4                  Deloitte   \n",
      "\n",
      "                                            location  \\\n",
      "0  Rosslyn, VA 22209 22209 (Radnor-Ft Myer Height...   \n",
      "1                          Fort Meade, MD+1 location   \n",
      "2  Rosslyn, VA 22209 22209 (Radnor-Ft Myer Height...   \n",
      "3                                     Washington, DC   \n",
      "4  Rosslyn, VA 22209 22209 (Radnor-Ft Myer Height...   \n",
      "\n",
      "                                             summary  \n",
      "0  Label machine learning data from customers.Exp...  \n",
      "1  Candidates for the NSA's Data Scientist roles ...  \n",
      "2  Junior data analytics practitioners needed to ...  \n",
      "3  Analytical thinker with a passion for using da...  \n",
      "4  Work in a true big-data environment (Hadoop, Q...  \n"
     ]
    }
   ],
   "source": [
    "import pandas as pd\n",
    "import numpy as np\n",
    "import matplotlib.pyplot as plt\n",
    "import seaborn as sns\n",
    "import requests\n",
    "from urllib.request import urlopen\n",
    "from bs4 import BeautifulSoup\n",
    "import re\n",
    "\n",
    "\n",
    "def extract(page):\n",
    "    header = {'User-Agent': 'Mozilla/5.0 (Macintosh; Intel Mac OS X 10_13_6) AppleWebKit/537.36 (KHTML, like Gecko) Chrome/99.0.4844.51 Safari/537.36'}\n",
    "    url = f'https://www.indeed.com/jobs?q=data%20science&l=Washington%2C%20DC&start={page}'\n",
    "    r = requests.get(url, header)\n",
    "    soup = BeautifulSoup(r.content, 'html.parser')\n",
    "    return soup\n",
    "\n",
    "def transform(soup):\n",
    "    divs = soup.find_all('div', class_ = 'slider_container')\n",
    "    for job in divs:\n",
    "        title = job.find('div').text.strip()\n",
    "        company = job.find('span', class_ = 'companyName').text.strip()\n",
    "        location = job.find('div', class_ = 'companyLocation').text.strip()\n",
    "        link = job.find('div', class_ = 'href')\n",
    "        summary = job.find('div', class_ = 'job-snippet').text.strip().replace('\\n', '')\n",
    "        \n",
    "        job = {'title': title, \n",
    "               'company': company,\n",
    "               'location': location,\n",
    "               'summary': summary,\n",
    "            \n",
    "        }\n",
    "        joblist.append(job)\n",
    "    return\n",
    "\n",
    "\n",
    "joblist = []\n",
    "\n",
    "for i in range(0, 40, 10):\n",
    "    print (f'Running page, {i}')\n",
    "    c = extract(0)\n",
    "    transform(c)\n",
    "    \n",
    "df = pd.DataFrame(joblist)\n",
    "print (df.head())\n",
    "df.to_csv('job.csv')"
   ]
  }
 ],
 "metadata": {
  "kernelspec": {
   "display_name": "Python 3",
   "language": "python",
   "name": "python3"
  },
  "language_info": {
   "codemirror_mode": {
    "name": "ipython",
    "version": 3
   },
   "file_extension": ".py",
   "mimetype": "text/x-python",
   "name": "python",
   "nbconvert_exporter": "python",
   "pygments_lexer": "ipython3",
   "version": "3.7.12"
  },
  "papermill": {
   "default_parameters": {},
   "duration": 16.907248,
   "end_time": "2022-03-09T19:30:38.529526",
   "environment_variables": {},
   "exception": null,
   "input_path": "__notebook__.ipynb",
   "output_path": "__notebook__.ipynb",
   "parameters": {},
   "start_time": "2022-03-09T19:30:21.622278",
   "version": "2.3.3"
  }
 },
 "nbformat": 4,
 "nbformat_minor": 5
}
